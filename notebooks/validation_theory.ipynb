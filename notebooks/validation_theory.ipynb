{
 "cells": [
  {
   "cell_type": "code",
   "execution_count": 20,
   "metadata": {},
   "outputs": [],
   "source": [
    "import pandas as pd\n",
    "import numpy as np\n",
    "import matplotlib.pyplot as plt\n",
    "import os\n",
    "os.chdir(\"C:/Users/DELL/OneDrive/Desktop/MOD_sim/Simulation\")"
   ]
  },
  {
   "cell_type": "markdown",
   "metadata": {},
   "source": [
    "# 1. Define theoretical metrics for M/M/1"
   ]
  },
  {
   "cell_type": "code",
   "execution_count": 21,
   "metadata": {},
   "outputs": [],
   "source": [
    "\n",
    "def theoretical_mm1_metrics(lambda_rate, mu_rate):\n",
    "    rho = lambda_rate / mu_rate\n",
    "    if rho >= 1:\n",
    "        return {\n",
    "            \"lambda\": lambda_rate,\n",
    "            \"mu\": mu_rate,\n",
    "            \"utilization\": np.nan,\n",
    "            \"avg_waiting_time\": np.nan,\n",
    "            \"avg_response_time\": np.nan\n",
    "        }\n",
    "    Wq = (rho**2) / (lambda_rate * (1 - rho))\n",
    "    W = 1 / (mu_rate - lambda_rate)\n",
    "    return {\n",
    "        \"lambda\": lambda_rate,\n",
    "        \"mu\": mu_rate,\n",
    "        \"utilization\": rho,\n",
    "        \"avg_waiting_time\": Wq,\n",
    "        \"avg_response_time\": W\n",
    "    }\n"
   ]
  },
  {
   "cell_type": "markdown",
   "metadata": {},
   "source": [
    "# 2. Load simulated data"
   ]
  },
  {
   "cell_type": "code",
   "execution_count": 22,
   "metadata": {},
   "outputs": [],
   "source": [
    "df_sim = pd.read_csv(\"data/mm1_results.csv\")\n",
    "lambda_values = df_sim[\"lambda\"].values\n",
    "mu = df_sim[\"mu\"].values[0]"
   ]
  },
  {
   "cell_type": "markdown",
   "metadata": {},
   "source": [
    "# 3. Compute theoretical values"
   ]
  },
  {
   "cell_type": "code",
   "execution_count": 23,
   "metadata": {},
   "outputs": [],
   "source": [
    "df_theory = pd.DataFrame([theoretical_mm1_metrics(lam, mu) for lam in lambda_values])"
   ]
  },
  {
   "cell_type": "markdown",
   "metadata": {},
   "source": [
    "# 4. Merge both"
   ]
  },
  {
   "cell_type": "code",
   "execution_count": 24,
   "metadata": {},
   "outputs": [],
   "source": [
    "df = df_sim.merge(df_theory, on=[\"lambda\", \"mu\"], suffixes=(\"_sim\", \"_theory\"))\n",
    "df[\"error_response_time\"] = abs(df[\"avg_response_time_sim\"] - df[\"avg_response_time_theory\"])\n",
    "df[\"error_waiting_time\"] = abs(df[\"avg_waiting_time_sim\"] - df[\"avg_waiting_time_theory\"])"
   ]
  },
  {
   "cell_type": "markdown",
   "metadata": {},
   "source": [
    "# 5. Display comparison table"
   ]
  },
  {
   "cell_type": "code",
   "execution_count": 25,
   "metadata": {},
   "outputs": [
    {
     "data": {
      "text/html": [
       "<div>\n",
       "<style scoped>\n",
       "    .dataframe tbody tr th:only-of-type {\n",
       "        vertical-align: middle;\n",
       "    }\n",
       "\n",
       "    .dataframe tbody tr th {\n",
       "        vertical-align: top;\n",
       "    }\n",
       "\n",
       "    .dataframe thead th {\n",
       "        text-align: right;\n",
       "    }\n",
       "</style>\n",
       "<table border=\"1\" class=\"dataframe\">\n",
       "  <thead>\n",
       "    <tr style=\"text-align: right;\">\n",
       "      <th></th>\n",
       "      <th>lambda</th>\n",
       "      <th>avg_response_time_sim</th>\n",
       "      <th>avg_response_time_theory</th>\n",
       "      <th>error_response_time</th>\n",
       "      <th>avg_waiting_time_sim</th>\n",
       "      <th>avg_waiting_time_theory</th>\n",
       "      <th>error_waiting_time</th>\n",
       "    </tr>\n",
       "  </thead>\n",
       "  <tbody>\n",
       "    <tr>\n",
       "      <th>0</th>\n",
       "      <td>0.10</td>\n",
       "      <td>1.110621</td>\n",
       "      <td>1.111111</td>\n",
       "      <td>0.000490</td>\n",
       "      <td>0.110789</td>\n",
       "      <td>0.111111</td>\n",
       "      <td>0.000322</td>\n",
       "    </tr>\n",
       "    <tr>\n",
       "      <th>1</th>\n",
       "      <td>0.15</td>\n",
       "      <td>1.175807</td>\n",
       "      <td>1.176471</td>\n",
       "      <td>0.000663</td>\n",
       "      <td>0.176047</td>\n",
       "      <td>0.176471</td>\n",
       "      <td>0.000424</td>\n",
       "    </tr>\n",
       "    <tr>\n",
       "      <th>2</th>\n",
       "      <td>0.20</td>\n",
       "      <td>1.249336</td>\n",
       "      <td>1.250000</td>\n",
       "      <td>0.000664</td>\n",
       "      <td>0.249661</td>\n",
       "      <td>0.250000</td>\n",
       "      <td>0.000339</td>\n",
       "    </tr>\n",
       "    <tr>\n",
       "      <th>3</th>\n",
       "      <td>0.25</td>\n",
       "      <td>1.333157</td>\n",
       "      <td>1.333333</td>\n",
       "      <td>0.000176</td>\n",
       "      <td>0.333218</td>\n",
       "      <td>0.333333</td>\n",
       "      <td>0.000115</td>\n",
       "    </tr>\n",
       "    <tr>\n",
       "      <th>4</th>\n",
       "      <td>0.30</td>\n",
       "      <td>1.428281</td>\n",
       "      <td>1.428571</td>\n",
       "      <td>0.000290</td>\n",
       "      <td>0.428531</td>\n",
       "      <td>0.428571</td>\n",
       "      <td>0.000040</td>\n",
       "    </tr>\n",
       "    <tr>\n",
       "      <th>5</th>\n",
       "      <td>0.35</td>\n",
       "      <td>1.537880</td>\n",
       "      <td>1.538462</td>\n",
       "      <td>0.000582</td>\n",
       "      <td>0.538150</td>\n",
       "      <td>0.538462</td>\n",
       "      <td>0.000311</td>\n",
       "    </tr>\n",
       "    <tr>\n",
       "      <th>6</th>\n",
       "      <td>0.40</td>\n",
       "      <td>1.667890</td>\n",
       "      <td>1.666667</td>\n",
       "      <td>0.001224</td>\n",
       "      <td>0.668022</td>\n",
       "      <td>0.666667</td>\n",
       "      <td>0.001355</td>\n",
       "    </tr>\n",
       "    <tr>\n",
       "      <th>7</th>\n",
       "      <td>0.45</td>\n",
       "      <td>1.817967</td>\n",
       "      <td>1.818182</td>\n",
       "      <td>0.000214</td>\n",
       "      <td>0.818184</td>\n",
       "      <td>0.818182</td>\n",
       "      <td>0.000002</td>\n",
       "    </tr>\n",
       "    <tr>\n",
       "      <th>8</th>\n",
       "      <td>0.50</td>\n",
       "      <td>1.999731</td>\n",
       "      <td>2.000000</td>\n",
       "      <td>0.000269</td>\n",
       "      <td>0.999878</td>\n",
       "      <td>1.000000</td>\n",
       "      <td>0.000122</td>\n",
       "    </tr>\n",
       "    <tr>\n",
       "      <th>9</th>\n",
       "      <td>0.55</td>\n",
       "      <td>2.223633</td>\n",
       "      <td>2.222222</td>\n",
       "      <td>0.001411</td>\n",
       "      <td>1.223676</td>\n",
       "      <td>1.222222</td>\n",
       "      <td>0.001454</td>\n",
       "    </tr>\n",
       "    <tr>\n",
       "      <th>10</th>\n",
       "      <td>0.60</td>\n",
       "      <td>2.498418</td>\n",
       "      <td>2.500000</td>\n",
       "      <td>0.001582</td>\n",
       "      <td>1.498631</td>\n",
       "      <td>1.500000</td>\n",
       "      <td>0.001369</td>\n",
       "    </tr>\n",
       "    <tr>\n",
       "      <th>11</th>\n",
       "      <td>0.65</td>\n",
       "      <td>2.854612</td>\n",
       "      <td>2.857143</td>\n",
       "      <td>0.002531</td>\n",
       "      <td>1.854941</td>\n",
       "      <td>1.857143</td>\n",
       "      <td>0.002202</td>\n",
       "    </tr>\n",
       "    <tr>\n",
       "      <th>12</th>\n",
       "      <td>0.70</td>\n",
       "      <td>3.320805</td>\n",
       "      <td>3.333333</td>\n",
       "      <td>0.012528</td>\n",
       "      <td>2.321210</td>\n",
       "      <td>2.333333</td>\n",
       "      <td>0.012123</td>\n",
       "    </tr>\n",
       "    <tr>\n",
       "      <th>13</th>\n",
       "      <td>0.75</td>\n",
       "      <td>3.988549</td>\n",
       "      <td>4.000000</td>\n",
       "      <td>0.011451</td>\n",
       "      <td>2.989097</td>\n",
       "      <td>3.000000</td>\n",
       "      <td>0.010903</td>\n",
       "    </tr>\n",
       "    <tr>\n",
       "      <th>14</th>\n",
       "      <td>0.80</td>\n",
       "      <td>4.977085</td>\n",
       "      <td>5.000000</td>\n",
       "      <td>0.022915</td>\n",
       "      <td>3.977384</td>\n",
       "      <td>4.000000</td>\n",
       "      <td>0.022616</td>\n",
       "    </tr>\n",
       "    <tr>\n",
       "      <th>15</th>\n",
       "      <td>0.85</td>\n",
       "      <td>6.651092</td>\n",
       "      <td>6.666667</td>\n",
       "      <td>0.015575</td>\n",
       "      <td>5.651232</td>\n",
       "      <td>5.666667</td>\n",
       "      <td>0.015435</td>\n",
       "    </tr>\n",
       "    <tr>\n",
       "      <th>16</th>\n",
       "      <td>0.90</td>\n",
       "      <td>10.092054</td>\n",
       "      <td>10.000000</td>\n",
       "      <td>0.092054</td>\n",
       "      <td>9.091783</td>\n",
       "      <td>9.000000</td>\n",
       "      <td>0.091783</td>\n",
       "    </tr>\n",
       "  </tbody>\n",
       "</table>\n",
       "</div>"
      ],
      "text/plain": [
       "    lambda  avg_response_time_sim  avg_response_time_theory  \\\n",
       "0     0.10               1.110621                  1.111111   \n",
       "1     0.15               1.175807                  1.176471   \n",
       "2     0.20               1.249336                  1.250000   \n",
       "3     0.25               1.333157                  1.333333   \n",
       "4     0.30               1.428281                  1.428571   \n",
       "5     0.35               1.537880                  1.538462   \n",
       "6     0.40               1.667890                  1.666667   \n",
       "7     0.45               1.817967                  1.818182   \n",
       "8     0.50               1.999731                  2.000000   \n",
       "9     0.55               2.223633                  2.222222   \n",
       "10    0.60               2.498418                  2.500000   \n",
       "11    0.65               2.854612                  2.857143   \n",
       "12    0.70               3.320805                  3.333333   \n",
       "13    0.75               3.988549                  4.000000   \n",
       "14    0.80               4.977085                  5.000000   \n",
       "15    0.85               6.651092                  6.666667   \n",
       "16    0.90              10.092054                 10.000000   \n",
       "\n",
       "    error_response_time  avg_waiting_time_sim  avg_waiting_time_theory  \\\n",
       "0              0.000490              0.110789                 0.111111   \n",
       "1              0.000663              0.176047                 0.176471   \n",
       "2              0.000664              0.249661                 0.250000   \n",
       "3              0.000176              0.333218                 0.333333   \n",
       "4              0.000290              0.428531                 0.428571   \n",
       "5              0.000582              0.538150                 0.538462   \n",
       "6              0.001224              0.668022                 0.666667   \n",
       "7              0.000214              0.818184                 0.818182   \n",
       "8              0.000269              0.999878                 1.000000   \n",
       "9              0.001411              1.223676                 1.222222   \n",
       "10             0.001582              1.498631                 1.500000   \n",
       "11             0.002531              1.854941                 1.857143   \n",
       "12             0.012528              2.321210                 2.333333   \n",
       "13             0.011451              2.989097                 3.000000   \n",
       "14             0.022915              3.977384                 4.000000   \n",
       "15             0.015575              5.651232                 5.666667   \n",
       "16             0.092054              9.091783                 9.000000   \n",
       "\n",
       "    error_waiting_time  \n",
       "0             0.000322  \n",
       "1             0.000424  \n",
       "2             0.000339  \n",
       "3             0.000115  \n",
       "4             0.000040  \n",
       "5             0.000311  \n",
       "6             0.001355  \n",
       "7             0.000002  \n",
       "8             0.000122  \n",
       "9             0.001454  \n",
       "10            0.001369  \n",
       "11            0.002202  \n",
       "12            0.012123  \n",
       "13            0.010903  \n",
       "14            0.022616  \n",
       "15            0.015435  \n",
       "16            0.091783  "
      ]
     },
     "metadata": {},
     "output_type": "display_data"
    }
   ],
   "source": [
    "display(df[[\"lambda\", \"avg_response_time_sim\", \"avg_response_time_theory\", \"error_response_time\",\n",
    "            \"avg_waiting_time_sim\", \"avg_waiting_time_theory\", \"error_waiting_time\"]])"
   ]
  },
  {
   "cell_type": "markdown",
   "metadata": {},
   "source": [
    "## 6. Plot: response time comparison"
   ]
  },
  {
   "cell_type": "code",
   "execution_count": 26,
   "metadata": {},
   "outputs": [
    {
     "data": {
      "image/png": "[encoded data removed]",
      "text/plain": [
       "<Figure size 800x500 with 1 Axes>"
      ]
     },
     "metadata": {},
     "output_type": "display_data"
    }
   ],
   "source": [
    "\n",
    "plt.figure(figsize=(8, 5))\n",
    "plt.plot(df[\"lambda\"], df[\"avg_response_time_sim\"], 'o-', label=\"Simulation\")\n",
    "plt.plot(df[\"lambda\"], df[\"avg_response_time_theory\"], 'x--', label=\"Théorie\")\n",
    "plt.title(\"Temps de réponse M/M/1 : simulation vs théorie\")\n",
    "plt.xlabel(\"λ\")\n",
    "plt.ylabel(\"Temps de réponse moyen\")\n",
    "plt.grid(True)\n",
    "plt.legend()\n",
    "plt.tight_layout()\n",
    "plt.show()"
   ]
  },
  {
   "cell_type": "markdown",
   "metadata": {},
   "source": [
    "## 7. Plot: absolute error"
   ]
  },
  {
   "cell_type": "code",
   "execution_count": 27,
   "metadata": {},
   "outputs": [
    {
     "data": {
      "image/png": "[encoded data removed]",
      "text/plain": [
       "<Figure size 800x500 with 1 Axes>"
      ]
     },
     "metadata": {},
     "output_type": "display_data"
    }
   ],
   "source": [
    "plt.figure(figsize=(8, 5))\n",
    "plt.plot(df[\"lambda\"], df[\"error_response_time\"], 'r-o')\n",
    "plt.title(\"Erreur absolue sur le temps de réponse (W)\")\n",
    "plt.xlabel(\"λ\")\n",
    "plt.ylabel(\"Erreur\")\n",
    "plt.grid(True)\n",
    "plt.tight_layout()\n",
    "plt.show()"
   ]
  }
 ],
 "metadata": {
  "kernelspec": {
   "display_name": "Python 3",
   "language": "python",
   "name": "python3"
  },
  "language_info": {
   "codemirror_mode": {
    "name": "ipython",
    "version": 3
   },
   "file_extension": ".py",
   "mimetype": "text/x-python",
   "name": "python",
   "nbconvert_exporter": "python",
   "pygments_lexer": "ipython3",
   "version": "3.13.0"
  }
 },
 "nbformat": 4,
 "nbformat_minor": 2
}
